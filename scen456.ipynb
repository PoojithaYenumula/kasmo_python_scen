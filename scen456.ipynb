{
 "cells": [
  {
   "cell_type": "code",
   "execution_count": 58,
   "id": "68920f67",
   "metadata": {},
   "outputs": [
    {
     "name": "stdout",
     "output_type": "stream",
     "text": [
      "Requirement already satisfied: pyodbc in c:\\users\\poojitha\\documents\\python_tutorial\\myenv\\lib\\site-packages (5.2.0)\n",
      "Note: you may need to restart the kernel to use updated packages.\n"
     ]
    },
    {
     "name": "stderr",
     "output_type": "stream",
     "text": [
      "\n",
      "[notice] A new release of pip is available: 24.0 -> 25.1.1\n",
      "[notice] To update, run: python.exe -m pip install --upgrade pip\n"
     ]
    }
   ],
   "source": [
    "pip install pyodbc"
   ]
  },
  {
   "cell_type": "code",
   "execution_count": 59,
   "id": "f49d679d",
   "metadata": {},
   "outputs": [],
   "source": [
    "import pyodbc as pyd"
   ]
  },
  {
   "cell_type": "code",
   "execution_count": 60,
   "id": "7651a02c",
   "metadata": {},
   "outputs": [],
   "source": [
    "server = 'DESKTOP-PEDTNCH\\MSSQLSERVER1'\n",
    "database = 'CustomersnOrders'\n",
    "username = 'sa'\n",
    "password = '1234'\n",
    "driver = 'SQL SERVER'"
   ]
  },
  {
   "cell_type": "code",
   "execution_count": 61,
   "id": "db361318",
   "metadata": {},
   "outputs": [],
   "source": [
    "connection_string = f'DRIVER={driver};SERVER={server};DATABASE={database};UID={username};PWD={password}'"
   ]
  },
  {
   "cell_type": "code",
   "execution_count": 62,
   "id": "87f6c15d",
   "metadata": {},
   "outputs": [],
   "source": [
    "#connecting db\n",
    "conn = pyd.connect(connection_string)"
   ]
  },
  {
   "cell_type": "code",
   "execution_count": 63,
   "id": "2015adb9",
   "metadata": {},
   "outputs": [],
   "source": [
    "#create cursor\n",
    "cur = conn.cursor()\n"
   ]
  },
  {
   "cell_type": "code",
   "execution_count": 64,
   "id": "6a0c40f0",
   "metadata": {},
   "outputs": [
    {
     "name": "stdout",
     "output_type": "stream",
     "text": [
      "Requirement already satisfied: sqlalchemy in c:\\users\\poojitha\\documents\\python_tutorial\\myenv\\lib\\site-packages (2.0.41)\n",
      "Requirement already satisfied: greenlet>=1 in c:\\users\\poojitha\\documents\\python_tutorial\\myenv\\lib\\site-packages (from sqlalchemy) (3.2.3)\n",
      "Requirement already satisfied: typing-extensions>=4.6.0 in c:\\users\\poojitha\\documents\\python_tutorial\\myenv\\lib\\site-packages (from sqlalchemy) (4.14.0)\n",
      "Note: you may need to restart the kernel to use updated packages.\n"
     ]
    },
    {
     "name": "stderr",
     "output_type": "stream",
     "text": [
      "\n",
      "[notice] A new release of pip is available: 24.0 -> 25.1.1\n",
      "[notice] To update, run: python.exe -m pip install --upgrade pip\n"
     ]
    }
   ],
   "source": [
    "pip install sqlalchemy"
   ]
  },
  {
   "cell_type": "code",
   "execution_count": 65,
   "id": "5a4188a3",
   "metadata": {},
   "outputs": [],
   "source": [
    "import pandas as pd\n",
    "from sqlalchemy import create_engine"
   ]
  },
  {
   "cell_type": "code",
   "execution_count": null,
   "id": "653ac56f",
   "metadata": {},
   "outputs": [],
   "source": [
    "cs = pd.read_csv(r\"C:\\Users\\Poojitha\\Documents\\python_tutorial\\final_cust_data.csv\")\n",
    "#cs-from csv loading to dataframe(vs code) and then storing it into the sql server\n"
   ]
  },
  {
   "cell_type": "code",
   "execution_count": 67,
   "id": "97428f83",
   "metadata": {},
   "outputs": [],
   "source": [
    "from sqlalchemy.engine import URL\n",
    "from sqlalchemy import create_engine\n",
    "import pandas as pd\n",
    "\n",
    "connection_url = URL.create(\n",
    "    \"mssql+pyodbc\",\n",
    "    username=\"sa\",\n",
    "    password=\"1234\",\n",
    "    host=\"DESKTOP-PEDTNCH\\MSSQLSERVER1\",\n",
    "    database=\"CustomersnOrders\",\n",
    "    query={\n",
    "        \"driver\": \"ODBC Driver 17 for SQL Server\",\n",
    "        \"TrustServerCertificate\": \"yes\"\n",
    "    }\n",
    ")"
   ]
  },
  {
   "cell_type": "code",
   "execution_count": 68,
   "id": "0f909817",
   "metadata": {},
   "outputs": [],
   "source": [
    "engine = create_engine(connection_url)"
   ]
  },
  {
   "cell_type": "code",
   "execution_count": null,
   "id": "fb525611",
   "metadata": {},
   "outputs": [
    {
     "name": "stdout",
     "output_type": "stream",
     "text": [
      "Data inserted successfully!\n"
     ]
    }
   ],
   "source": [
    "# push to sql\n",
    "\n",
    "cs.to_sql(\"customers\", con=engine, if_exists=\"replace\", index=False);\n",
    "\n",
    "print(\"Data inserted successfully!\")"
   ]
  },
  {
   "cell_type": "code",
   "execution_count": null,
   "id": "ba38d7f7",
   "metadata": {},
   "outputs": [
    {
     "name": "stdout",
     "output_type": "stream",
     "text": [
      "   customer_id              name                        email       phone  \\\n",
      "0            1     Michelle Kidd           vayala@example.net  6197234258   \n",
      "1            2       Brad Newton  taylorcatherine@example.net  5376741158   \n",
      "2            3      Larry Torres         dsanchez@example.net  8102564505   \n",
      "3            4    Kimberly Price    jessicaknight@example.com  4232229779   \n",
      "4            5  Matthew Phillips        qwilliams@example.com  2207633522   \n",
      "\n",
      "                                             address registration_date  \\\n",
      "0                        USNS Santiago, FPO AE 80872        2025-01-25   \n",
      "1  38783 Oliver Street, West Kristenborough, MT 9...        2023-07-13   \n",
      "2     6845 Steele Turnpike, West Erikabury, UT 37487        2023-08-18   \n",
      "3         1631 Alexis Meadows, Lake Amanda, CA 75179        2024-12-08   \n",
      "4  2274 Williams Heights Suite 895, Andersonhaven...        2024-02-03   \n",
      "\n",
      "  loyalty_status  \n",
      "0           Gold  \n",
      "1         Silver  \n",
      "2         Bronze  \n",
      "3           Gold  \n",
      "4           Gold  \n"
     ]
    }
   ],
   "source": [
    "# query\n",
    "query = \"\"\"\n",
    "SELECT\n",
    "   *\n",
    "FROM customers;\n",
    "\"\"\"\n",
    "\n",
    "\n",
    "css = pd.read_sql(query, con=engine)\n",
    "#css-from sql server to the dataframe(vs code) \n",
    "\n",
    "# preview\n",
    "print(css.head())\n"
   ]
  },
  {
   "cell_type": "code",
   "execution_count": 71,
   "id": "2cc79e8a",
   "metadata": {},
   "outputs": [],
   "source": [
    "css['name'] = css['name'].str.replace(r'^(Mr\\.|Mrs\\.|Miss|Ms\\.|Dr\\.)\\s*', '', regex=True)\n",
    "css['name'] = css['name'].str.replace(r'\\s*(Jr\\.|Sr\\.|II|III|DDS|PhD|MD|MBA|Esq\\.?)$', '', regex=True)"
   ]
  },
  {
   "cell_type": "code",
   "execution_count": 72,
   "id": "9e2b82c1",
   "metadata": {},
   "outputs": [
    {
     "data": {
      "text/html": [
       "<div>\n",
       "<style scoped>\n",
       "    .dataframe tbody tr th:only-of-type {\n",
       "        vertical-align: middle;\n",
       "    }\n",
       "\n",
       "    .dataframe tbody tr th {\n",
       "        vertical-align: top;\n",
       "    }\n",
       "\n",
       "    .dataframe thead th {\n",
       "        text-align: right;\n",
       "    }\n",
       "</style>\n",
       "<table border=\"1\" class=\"dataframe\">\n",
       "  <thead>\n",
       "    <tr style=\"text-align: right;\">\n",
       "      <th></th>\n",
       "      <th>customer_id</th>\n",
       "      <th>name</th>\n",
       "      <th>email</th>\n",
       "      <th>phone</th>\n",
       "      <th>address</th>\n",
       "      <th>registration_date</th>\n",
       "      <th>loyalty_status</th>\n",
       "    </tr>\n",
       "  </thead>\n",
       "  <tbody>\n",
       "    <tr>\n",
       "      <th>0</th>\n",
       "      <td>1</td>\n",
       "      <td>Michelle Kidd</td>\n",
       "      <td>vayala@example.net</td>\n",
       "      <td>6197234258</td>\n",
       "      <td>USNS Santiago, FPO AE 80872</td>\n",
       "      <td>2025-01-25</td>\n",
       "      <td>Gold</td>\n",
       "    </tr>\n",
       "    <tr>\n",
       "      <th>1</th>\n",
       "      <td>2</td>\n",
       "      <td>Brad Newton</td>\n",
       "      <td>taylorcatherine@example.net</td>\n",
       "      <td>5376741158</td>\n",
       "      <td>38783 Oliver Street, West Kristenborough, MT 9...</td>\n",
       "      <td>2023-07-13</td>\n",
       "      <td>Silver</td>\n",
       "    </tr>\n",
       "    <tr>\n",
       "      <th>2</th>\n",
       "      <td>3</td>\n",
       "      <td>Larry Torres</td>\n",
       "      <td>dsanchez@example.net</td>\n",
       "      <td>8102564505</td>\n",
       "      <td>6845 Steele Turnpike, West Erikabury, UT 37487</td>\n",
       "      <td>2023-08-18</td>\n",
       "      <td>Bronze</td>\n",
       "    </tr>\n",
       "    <tr>\n",
       "      <th>3</th>\n",
       "      <td>4</td>\n",
       "      <td>Kimberly Price</td>\n",
       "      <td>jessicaknight@example.com</td>\n",
       "      <td>4232229779</td>\n",
       "      <td>1631 Alexis Meadows, Lake Amanda, CA 75179</td>\n",
       "      <td>2024-12-08</td>\n",
       "      <td>Gold</td>\n",
       "    </tr>\n",
       "    <tr>\n",
       "      <th>4</th>\n",
       "      <td>5</td>\n",
       "      <td>Matthew Phillips</td>\n",
       "      <td>qwilliams@example.com</td>\n",
       "      <td>2207633522</td>\n",
       "      <td>2274 Williams Heights Suite 895, Andersonhaven...</td>\n",
       "      <td>2024-02-03</td>\n",
       "      <td>Gold</td>\n",
       "    </tr>\n",
       "    <tr>\n",
       "      <th>...</th>\n",
       "      <td>...</td>\n",
       "      <td>...</td>\n",
       "      <td>...</td>\n",
       "      <td>...</td>\n",
       "      <td>...</td>\n",
       "      <td>...</td>\n",
       "      <td>...</td>\n",
       "    </tr>\n",
       "    <tr>\n",
       "      <th>995</th>\n",
       "      <td>996</td>\n",
       "      <td>Jerry Mcdaniel</td>\n",
       "      <td>walkerlisa@example.net</td>\n",
       "      <td>6389899441</td>\n",
       "      <td>34746 Smith Gateway, New Sarah, AS 12715</td>\n",
       "      <td>2025-02-10</td>\n",
       "      <td>Silver</td>\n",
       "    </tr>\n",
       "    <tr>\n",
       "      <th>996</th>\n",
       "      <td>997</td>\n",
       "      <td>Jodi Simpson</td>\n",
       "      <td>eric24@example.org</td>\n",
       "      <td>4836252940</td>\n",
       "      <td>2876 Tucker Road Suite 947, North Tommyborough...</td>\n",
       "      <td>2024-04-18</td>\n",
       "      <td>Bronze</td>\n",
       "    </tr>\n",
       "    <tr>\n",
       "      <th>997</th>\n",
       "      <td>998</td>\n",
       "      <td>Crystal Brown</td>\n",
       "      <td>pshaffer@example.net</td>\n",
       "      <td>3907473088</td>\n",
       "      <td>095 Janice Forest Suite 570, Boltonmouth, DE 7...</td>\n",
       "      <td>2024-08-30</td>\n",
       "      <td>Bronze</td>\n",
       "    </tr>\n",
       "    <tr>\n",
       "      <th>998</th>\n",
       "      <td>999</td>\n",
       "      <td>Gregory Duarte</td>\n",
       "      <td>caitlindunlap@example.org</td>\n",
       "      <td>2574098196</td>\n",
       "      <td>Unit 6377 Box 7662, DPO AP 03300</td>\n",
       "      <td>2024-05-16</td>\n",
       "      <td>Gold</td>\n",
       "    </tr>\n",
       "    <tr>\n",
       "      <th>999</th>\n",
       "      <td>1000</td>\n",
       "      <td>Jason Walls</td>\n",
       "      <td>michael42@example.com</td>\n",
       "      <td>6923336880</td>\n",
       "      <td>95002 Bruce Rue, Camachoport, MH 58723</td>\n",
       "      <td>2024-12-10</td>\n",
       "      <td>Bronze</td>\n",
       "    </tr>\n",
       "  </tbody>\n",
       "</table>\n",
       "<p>1000 rows × 7 columns</p>\n",
       "</div>"
      ],
      "text/plain": [
       "     customer_id              name                        email       phone  \\\n",
       "0              1     Michelle Kidd           vayala@example.net  6197234258   \n",
       "1              2       Brad Newton  taylorcatherine@example.net  5376741158   \n",
       "2              3      Larry Torres         dsanchez@example.net  8102564505   \n",
       "3              4    Kimberly Price    jessicaknight@example.com  4232229779   \n",
       "4              5  Matthew Phillips        qwilliams@example.com  2207633522   \n",
       "..           ...               ...                          ...         ...   \n",
       "995          996    Jerry Mcdaniel       walkerlisa@example.net  6389899441   \n",
       "996          997      Jodi Simpson           eric24@example.org  4836252940   \n",
       "997          998     Crystal Brown         pshaffer@example.net  3907473088   \n",
       "998          999    Gregory Duarte    caitlindunlap@example.org  2574098196   \n",
       "999         1000       Jason Walls        michael42@example.com  6923336880   \n",
       "\n",
       "                                               address registration_date  \\\n",
       "0                          USNS Santiago, FPO AE 80872        2025-01-25   \n",
       "1    38783 Oliver Street, West Kristenborough, MT 9...        2023-07-13   \n",
       "2       6845 Steele Turnpike, West Erikabury, UT 37487        2023-08-18   \n",
       "3           1631 Alexis Meadows, Lake Amanda, CA 75179        2024-12-08   \n",
       "4    2274 Williams Heights Suite 895, Andersonhaven...        2024-02-03   \n",
       "..                                                 ...               ...   \n",
       "995           34746 Smith Gateway, New Sarah, AS 12715        2025-02-10   \n",
       "996  2876 Tucker Road Suite 947, North Tommyborough...        2024-04-18   \n",
       "997  095 Janice Forest Suite 570, Boltonmouth, DE 7...        2024-08-30   \n",
       "998                   Unit 6377 Box 7662, DPO AP 03300        2024-05-16   \n",
       "999             95002 Bruce Rue, Camachoport, MH 58723        2024-12-10   \n",
       "\n",
       "    loyalty_status  \n",
       "0             Gold  \n",
       "1           Silver  \n",
       "2           Bronze  \n",
       "3             Gold  \n",
       "4             Gold  \n",
       "..             ...  \n",
       "995         Silver  \n",
       "996         Bronze  \n",
       "997         Bronze  \n",
       "998           Gold  \n",
       "999         Bronze  \n",
       "\n",
       "[1000 rows x 7 columns]"
      ]
     },
     "execution_count": 72,
     "metadata": {},
     "output_type": "execute_result"
    }
   ],
   "source": [
    "css"
   ]
  },
  {
   "cell_type": "code",
   "execution_count": 73,
   "id": "d61ba042",
   "metadata": {},
   "outputs": [
    {
     "name": "stdout",
     "output_type": "stream",
     "text": [
      "    first_name last_name\n",
      "0     Michelle      Kidd\n",
      "1         Brad    Newton\n",
      "2        Larry    Torres\n",
      "3     Kimberly     Price\n",
      "4      Matthew  Phillips\n",
      "..         ...       ...\n",
      "995      Jerry  Mcdaniel\n",
      "996       Jodi   Simpson\n",
      "997    Crystal     Brown\n",
      "998    Gregory    Duarte\n",
      "999      Jason     Walls\n",
      "\n",
      "[1000 rows x 2 columns]\n"
     ]
    }
   ],
   "source": [
    "css[['first_name', 'last_name']] = css['name'].str.strip().str.split(' ', n=1, expand=True)\n",
    "print(css[['first_name', 'last_name']])"
   ]
  },
  {
   "cell_type": "code",
   "execution_count": 74,
   "id": "5dd09b90",
   "metadata": {},
   "outputs": [
    {
     "data": {
      "text/html": [
       "<div>\n",
       "<style scoped>\n",
       "    .dataframe tbody tr th:only-of-type {\n",
       "        vertical-align: middle;\n",
       "    }\n",
       "\n",
       "    .dataframe tbody tr th {\n",
       "        vertical-align: top;\n",
       "    }\n",
       "\n",
       "    .dataframe thead th {\n",
       "        text-align: right;\n",
       "    }\n",
       "</style>\n",
       "<table border=\"1\" class=\"dataframe\">\n",
       "  <thead>\n",
       "    <tr style=\"text-align: right;\">\n",
       "      <th></th>\n",
       "      <th>customer_id</th>\n",
       "      <th>name</th>\n",
       "      <th>email</th>\n",
       "      <th>phone</th>\n",
       "      <th>address</th>\n",
       "      <th>registration_date</th>\n",
       "      <th>loyalty_status</th>\n",
       "      <th>first_name</th>\n",
       "      <th>last_name</th>\n",
       "    </tr>\n",
       "  </thead>\n",
       "  <tbody>\n",
       "    <tr>\n",
       "      <th>0</th>\n",
       "      <td>1</td>\n",
       "      <td>Michelle Kidd</td>\n",
       "      <td>vayala@example.net</td>\n",
       "      <td>6197234258</td>\n",
       "      <td>USNS Santiago, FPO AE 80872</td>\n",
       "      <td>2025-01-25</td>\n",
       "      <td>Gold</td>\n",
       "      <td>Michelle</td>\n",
       "      <td>Kidd</td>\n",
       "    </tr>\n",
       "    <tr>\n",
       "      <th>1</th>\n",
       "      <td>2</td>\n",
       "      <td>Brad Newton</td>\n",
       "      <td>taylorcatherine@example.net</td>\n",
       "      <td>5376741158</td>\n",
       "      <td>38783 Oliver Street, West Kristenborough, MT 9...</td>\n",
       "      <td>2023-07-13</td>\n",
       "      <td>Silver</td>\n",
       "      <td>Brad</td>\n",
       "      <td>Newton</td>\n",
       "    </tr>\n",
       "    <tr>\n",
       "      <th>2</th>\n",
       "      <td>3</td>\n",
       "      <td>Larry Torres</td>\n",
       "      <td>dsanchez@example.net</td>\n",
       "      <td>8102564505</td>\n",
       "      <td>6845 Steele Turnpike, West Erikabury, UT 37487</td>\n",
       "      <td>2023-08-18</td>\n",
       "      <td>Bronze</td>\n",
       "      <td>Larry</td>\n",
       "      <td>Torres</td>\n",
       "    </tr>\n",
       "    <tr>\n",
       "      <th>3</th>\n",
       "      <td>4</td>\n",
       "      <td>Kimberly Price</td>\n",
       "      <td>jessicaknight@example.com</td>\n",
       "      <td>4232229779</td>\n",
       "      <td>1631 Alexis Meadows, Lake Amanda, CA 75179</td>\n",
       "      <td>2024-12-08</td>\n",
       "      <td>Gold</td>\n",
       "      <td>Kimberly</td>\n",
       "      <td>Price</td>\n",
       "    </tr>\n",
       "    <tr>\n",
       "      <th>4</th>\n",
       "      <td>5</td>\n",
       "      <td>Matthew Phillips</td>\n",
       "      <td>qwilliams@example.com</td>\n",
       "      <td>2207633522</td>\n",
       "      <td>2274 Williams Heights Suite 895, Andersonhaven...</td>\n",
       "      <td>2024-02-03</td>\n",
       "      <td>Gold</td>\n",
       "      <td>Matthew</td>\n",
       "      <td>Phillips</td>\n",
       "    </tr>\n",
       "    <tr>\n",
       "      <th>...</th>\n",
       "      <td>...</td>\n",
       "      <td>...</td>\n",
       "      <td>...</td>\n",
       "      <td>...</td>\n",
       "      <td>...</td>\n",
       "      <td>...</td>\n",
       "      <td>...</td>\n",
       "      <td>...</td>\n",
       "      <td>...</td>\n",
       "    </tr>\n",
       "    <tr>\n",
       "      <th>995</th>\n",
       "      <td>996</td>\n",
       "      <td>Jerry Mcdaniel</td>\n",
       "      <td>walkerlisa@example.net</td>\n",
       "      <td>6389899441</td>\n",
       "      <td>34746 Smith Gateway, New Sarah, AS 12715</td>\n",
       "      <td>2025-02-10</td>\n",
       "      <td>Silver</td>\n",
       "      <td>Jerry</td>\n",
       "      <td>Mcdaniel</td>\n",
       "    </tr>\n",
       "    <tr>\n",
       "      <th>996</th>\n",
       "      <td>997</td>\n",
       "      <td>Jodi Simpson</td>\n",
       "      <td>eric24@example.org</td>\n",
       "      <td>4836252940</td>\n",
       "      <td>2876 Tucker Road Suite 947, North Tommyborough...</td>\n",
       "      <td>2024-04-18</td>\n",
       "      <td>Bronze</td>\n",
       "      <td>Jodi</td>\n",
       "      <td>Simpson</td>\n",
       "    </tr>\n",
       "    <tr>\n",
       "      <th>997</th>\n",
       "      <td>998</td>\n",
       "      <td>Crystal Brown</td>\n",
       "      <td>pshaffer@example.net</td>\n",
       "      <td>3907473088</td>\n",
       "      <td>095 Janice Forest Suite 570, Boltonmouth, DE 7...</td>\n",
       "      <td>2024-08-30</td>\n",
       "      <td>Bronze</td>\n",
       "      <td>Crystal</td>\n",
       "      <td>Brown</td>\n",
       "    </tr>\n",
       "    <tr>\n",
       "      <th>998</th>\n",
       "      <td>999</td>\n",
       "      <td>Gregory Duarte</td>\n",
       "      <td>caitlindunlap@example.org</td>\n",
       "      <td>2574098196</td>\n",
       "      <td>Unit 6377 Box 7662, DPO AP 03300</td>\n",
       "      <td>2024-05-16</td>\n",
       "      <td>Gold</td>\n",
       "      <td>Gregory</td>\n",
       "      <td>Duarte</td>\n",
       "    </tr>\n",
       "    <tr>\n",
       "      <th>999</th>\n",
       "      <td>1000</td>\n",
       "      <td>Jason Walls</td>\n",
       "      <td>michael42@example.com</td>\n",
       "      <td>6923336880</td>\n",
       "      <td>95002 Bruce Rue, Camachoport, MH 58723</td>\n",
       "      <td>2024-12-10</td>\n",
       "      <td>Bronze</td>\n",
       "      <td>Jason</td>\n",
       "      <td>Walls</td>\n",
       "    </tr>\n",
       "  </tbody>\n",
       "</table>\n",
       "<p>1000 rows × 9 columns</p>\n",
       "</div>"
      ],
      "text/plain": [
       "     customer_id              name                        email       phone  \\\n",
       "0              1     Michelle Kidd           vayala@example.net  6197234258   \n",
       "1              2       Brad Newton  taylorcatherine@example.net  5376741158   \n",
       "2              3      Larry Torres         dsanchez@example.net  8102564505   \n",
       "3              4    Kimberly Price    jessicaknight@example.com  4232229779   \n",
       "4              5  Matthew Phillips        qwilliams@example.com  2207633522   \n",
       "..           ...               ...                          ...         ...   \n",
       "995          996    Jerry Mcdaniel       walkerlisa@example.net  6389899441   \n",
       "996          997      Jodi Simpson           eric24@example.org  4836252940   \n",
       "997          998     Crystal Brown         pshaffer@example.net  3907473088   \n",
       "998          999    Gregory Duarte    caitlindunlap@example.org  2574098196   \n",
       "999         1000       Jason Walls        michael42@example.com  6923336880   \n",
       "\n",
       "                                               address registration_date  \\\n",
       "0                          USNS Santiago, FPO AE 80872        2025-01-25   \n",
       "1    38783 Oliver Street, West Kristenborough, MT 9...        2023-07-13   \n",
       "2       6845 Steele Turnpike, West Erikabury, UT 37487        2023-08-18   \n",
       "3           1631 Alexis Meadows, Lake Amanda, CA 75179        2024-12-08   \n",
       "4    2274 Williams Heights Suite 895, Andersonhaven...        2024-02-03   \n",
       "..                                                 ...               ...   \n",
       "995           34746 Smith Gateway, New Sarah, AS 12715        2025-02-10   \n",
       "996  2876 Tucker Road Suite 947, North Tommyborough...        2024-04-18   \n",
       "997  095 Janice Forest Suite 570, Boltonmouth, DE 7...        2024-08-30   \n",
       "998                   Unit 6377 Box 7662, DPO AP 03300        2024-05-16   \n",
       "999             95002 Bruce Rue, Camachoport, MH 58723        2024-12-10   \n",
       "\n",
       "    loyalty_status first_name last_name  \n",
       "0             Gold   Michelle      Kidd  \n",
       "1           Silver       Brad    Newton  \n",
       "2           Bronze      Larry    Torres  \n",
       "3             Gold   Kimberly     Price  \n",
       "4             Gold    Matthew  Phillips  \n",
       "..             ...        ...       ...  \n",
       "995         Silver      Jerry  Mcdaniel  \n",
       "996         Bronze       Jodi   Simpson  \n",
       "997         Bronze    Crystal     Brown  \n",
       "998           Gold    Gregory    Duarte  \n",
       "999         Bronze      Jason     Walls  \n",
       "\n",
       "[1000 rows x 9 columns]"
      ]
     },
     "execution_count": 74,
     "metadata": {},
     "output_type": "execute_result"
    }
   ],
   "source": [
    "css"
   ]
  },
  {
   "cell_type": "code",
   "execution_count": 76,
   "id": "20fad3f2",
   "metadata": {},
   "outputs": [],
   "source": [
    "cc = pd.read_excel(r\"C:\\Users\\Poojitha\\Downloads\\Country-codes.xls\")#cc-country codes"
   ]
  },
  {
   "cell_type": "code",
   "execution_count": 77,
   "id": "cfc874e8",
   "metadata": {},
   "outputs": [
    {
     "name": "stdout",
     "output_type": "stream",
     "text": [
      "Data inserted successfully!\n"
     ]
    }
   ],
   "source": [
    "# Push to SQL Server\n",
    "\n",
    "cc.to_sql(\"country_codes\", con=engine, if_exists=\"replace\", index=False);\n",
    "\n",
    "print(\"Data inserted successfully!\")"
   ]
  },
  {
   "cell_type": "code",
   "execution_count": 78,
   "id": "db45cda7",
   "metadata": {},
   "outputs": [
    {
     "name": "stdout",
     "output_type": "stream",
     "text": [
      "          Country Country_code International_dialing\n",
      "0               A         None                  None\n",
      "1    Afghanistan            AF                   +93\n",
      "2        Albania            AL                  +355\n",
      "3        Algeria            DZ                  +213\n",
      "4  American Samoa           AS                +1-684\n"
     ]
    }
   ],
   "source": [
    "# query\n",
    "queryy = \"\"\"\n",
    "SELECT\n",
    "   *\n",
    "FROM country_codes;\n",
    "\"\"\"\n",
    "\n",
    "\n",
    "ccc = pd.read_sql(queryy, con=engine)\n",
    "\n",
    "# preview\n",
    "print(ccc.head())\n"
   ]
  },
  {
   "cell_type": "code",
   "execution_count": 79,
   "id": "a5a293d6",
   "metadata": {},
   "outputs": [],
   "source": [
    "css['country_code'] = css['address'].str.slice(-8, -6)"
   ]
  },
  {
   "cell_type": "code",
   "execution_count": 80,
   "id": "be2c5c04",
   "metadata": {},
   "outputs": [
    {
     "data": {
      "text/plain": [
       "0      AE\n",
       "1      MT\n",
       "2      UT\n",
       "3      CA\n",
       "4      OR\n",
       "       ..\n",
       "995    AS\n",
       "996    AL\n",
       "997    DE\n",
       "998    AP\n",
       "999    MH\n",
       "Name: country_code, Length: 1000, dtype: object"
      ]
     },
     "execution_count": 80,
     "metadata": {},
     "output_type": "execute_result"
    }
   ],
   "source": [
    "css['country_code']\n"
   ]
  },
  {
   "cell_type": "code",
   "execution_count": null,
   "id": "37af272b",
   "metadata": {},
   "outputs": [],
   "source": [
    "customerdata['phone'] = customerdata['phone'].astype(str)"
   ]
  },
  {
   "cell_type": "code",
   "execution_count": null,
   "id": "72678779",
   "metadata": {},
   "outputs": [],
   "source": [
    "for i in range(len(customerdata)):\n",
    "    code = customerdata.loc[i, 'country_code']\n",
    "    for j in range(len(countrycodes)):\n",
    "        if code == countrycodes.loc[j, 'Country_code']:\n",
    "            dial = countrycodes.loc[j, 'International_dialing']\n",
    "            customerdata.loc[i, 'phone'] = (str(dial) + \" \"+ customerdata.loc[i, 'phone'])\n",
    "customerdata"
   ]
  }
 ],
 "metadata": {
  "kernelspec": {
   "display_name": "myenv",
   "language": "python",
   "name": "python3"
  },
  "language_info": {
   "codemirror_mode": {
    "name": "ipython",
    "version": 3
   },
   "file_extension": ".py",
   "mimetype": "text/x-python",
   "name": "python",
   "nbconvert_exporter": "python",
   "pygments_lexer": "ipython3",
   "version": "3.11.9"
  }
 },
 "nbformat": 4,
 "nbformat_minor": 5
}
